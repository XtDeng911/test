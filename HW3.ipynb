{
 "cells": [
  {
   "cell_type": "markdown",
   "metadata": {},
   "source": [
    "# Homework 3"
   ]
  },
  {
   "cell_type": "markdown",
   "metadata": {},
   "source": [
    "Group D: Sheng Cao, Danqi Chang, Xiangtian Deng, Mukesh Pant"
   ]
  },
  {
   "cell_type": "markdown",
   "metadata": {},
   "source": [
    "## Problem 1"
   ]
  },
  {
   "cell_type": "markdown",
   "metadata": {},
   "source": [
    "### Log-concave"
   ]
  },
  {
   "cell_type": "markdown",
   "metadata": {},
   "source": [
    "#### Normal Distribution"
   ]
  },
  {
   "cell_type": "markdown",
   "metadata": {},
   "source": [
    "The density function of normal distribution is $$f(x)=\\frac 1{\\sqrt{2\\pi \\sigma^2}}e^{-\\frac {(x-\\mu)^2}{2\\sigma^2}}.$$\n",
    "And $$log\\left(f(x)\\right)=C-\\frac {(x-\\mu)^2}{2\\sigma^2},$$of which the second derivative is $-\\frac 1{\\sigma^2}$. As a result, the density function of normal distribution is log-concave."
   ]
  },
  {
   "cell_type": "markdown",
   "metadata": {},
   "source": [
    "#### Multinormal Distribution"
   ]
  },
  {
   "cell_type": "markdown",
   "metadata": {},
   "source": [
    "The density function of multinormal distribution is$$f(x)=\\frac 1{\\sqrt{2\\pi det(\\Sigma)}}e^{-\\frac 12 {(x-\\mu)^T\\Sigma^{-1}(x-\\mu)}}.$$\n",
    "And $$log\\left(f(x)\\right)=C-\\frac 12 {(x-\\mu)^T\\Sigma^{-1}(x-\\mu)}.$$\n",
    "The Hessian Matrix of which is $-\\Sigma^{-1}<0,$ so it is a log-concave function.\n"
   ]
  },
  {
   "cell_type": "markdown",
   "metadata": {},
   "source": [
    "#### Expoential Distribution"
   ]
  },
  {
   "cell_type": "markdown",
   "metadata": {},
   "source": [
    "The density function of Expoential distribution is $$f(x)=\\lambda e^{-\\lambda x}.$$\n",
    "And $$log f(x)=-\\lambda x,$$of which the second derivative function is 0. As a result it is a log-concave function.\n",
    "Q.E.D."
   ]
  },
  {
   "cell_type": "markdown",
   "metadata": {},
   "source": [
    "#### Logistic Distribution"
   ]
  },
  {
   "cell_type": "markdown",
   "metadata": {},
   "source": [
    "The density function of logistic distribution is $$\\frac 1{s\\left(e^{\\frac{x-\\mu}{2s}}+e^{-\\frac{x-\\mu}{2s}}\\right)^2}.$$\n",
    "And$$logf(x)=C-2log\\left(e^{\\frac{x-\\mu}{2s}}+e^{-\\frac{x-\\mu}{2s}}\\right)$$\n",
    "Of which the second derivative is $$-\\frac{y^3}{2\\left(y^2+y\\right)^2}<0$$"
   ]
  },
  {
   "cell_type": "markdown",
   "metadata": {},
   "source": [
    "### KL"
   ]
  },
  {
   "cell_type": "markdown",
   "metadata": {},
   "source": [
    "For KL divergence, $$KL(p||q)=\\sum^n_{i+1}p_ilogp_i-p_ilogq_i.$$ We know that $-logq_i$is a convex function for q is a log concave function. As a result $KL(p||q)$ is a convex function."
   ]
  },
  {
   "cell_type": "code",
   "execution_count": null,
   "metadata": {},
   "outputs": [],
   "source": []
  }
 ],
 "metadata": {
  "kernelspec": {
   "display_name": "Python 3",
   "language": "python",
   "name": "python3"
  },
  "language_info": {
   "codemirror_mode": {
    "name": "ipython",
    "version": 3
   },
   "file_extension": ".py",
   "mimetype": "text/x-python",
   "name": "python",
   "nbconvert_exporter": "python",
   "pygments_lexer": "ipython3",
   "version": "3.6.6"
  },
  "toc": {
   "base_numbering": 1,
   "nav_menu": {},
   "number_sections": true,
   "sideBar": true,
   "skip_h1_title": false,
   "title_cell": "Table of Contents",
   "title_sidebar": "Contents",
   "toc_cell": false,
   "toc_position": {},
   "toc_section_display": true,
   "toc_window_display": true
  }
 },
 "nbformat": 4,
 "nbformat_minor": 2
}
